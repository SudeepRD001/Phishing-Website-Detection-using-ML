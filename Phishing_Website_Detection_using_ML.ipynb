{
 "cells": [
  {
   "cell_type": "code",
   "execution_count": null,
   "metadata": {
    "id": "O8pw0sj4Sxx_"
   },
   "outputs": [],
   "source": [
    "# Import necessary libraries\n",
    "import pandas as pd\n",
    "import numpy as np\n",
    "from sklearn.model_selection import train_test_split\n",
    "from sklearn.preprocessing import StandardScaler\n",
    "from sklearn.ensemble import RandomForestClassifier\n",
    "from sklearn.linear_model import LogisticRegression\n",
    "from sklearn.svm import SVC\n",
    "from sklearn.metrics import accuracy_score, classification_report, confusion_matrix\n",
    "import matplotlib.pyplot as plt\n",
    "import seaborn as sns"
   ]
  },
  {
   "cell_type": "code",
   "execution_count": null,
   "metadata": {
    "colab": {
     "base_uri": "https://localhost:8080/"
    },
    "id": "sBPF060TTdm-",
    "outputId": "4328bd73-0370-469e-9260-4e6943207349"
   },
   "outputs": [],
   "source": [
    "# Load the dataset\n",
    "file_path = 'Add_your_CSV_file_path/Phishing_Legitimate_full.csv'\n",
    "data = pd.read_csv(file_path)\n",
    "\n",
    "# Display basic information\n",
    "print(\"Dataset Info:\")\n",
    "print(data.info())\n",
    "\n"
   ]
  },
  {
   "cell_type": "code",
   "execution_count": null,
   "metadata": {
    "colab": {
     "base_uri": "https://localhost:8080/"
    },
    "id": "AlmfbiFRTwaW",
    "outputId": "0054de25-b7cd-4a87-a391-89b33d3c7a4a"
   },
   "outputs": [],
   "source": [
    "# Check for missing values\n",
    "print(\"\\nMissing Values:\")\n",
    "print(data.isnull().sum())\n",
    "\n",
    "# Summary statistics\n",
    "print(\"\\nDataset Description:\")\n",
    "print(data.describe())"
   ]
  },
  {
   "cell_type": "code",
   "execution_count": null,
   "metadata": {
    "colab": {
     "base_uri": "https://localhost:8080/",
     "height": 576
    },
    "id": "fDi1oNFvUCct",
    "outputId": "8689e410-4337-47d4-dd89-7d6b88f6c33f"
   },
   "outputs": [],
   "source": [
    "# Check class distribution\n",
    "print(\"\\nClass Distribution:\")\n",
    "print(data['CLASS_LABEL'].value_counts())\n",
    "\n",
    "# Visualize class distribution\n",
    "sns.countplot(x='CLASS_LABEL', data=data)\n",
    "plt.title(\"Class Distribution (0 = Legitimate, 1 = Phishing)\")\n",
    "plt.show()"
   ]
  },
  {
   "cell_type": "code",
   "execution_count": null,
   "metadata": {
    "colab": {
     "base_uri": "https://localhost:8080/"
    },
    "id": "gOTKJ9SbUEI6",
    "outputId": "66b1513a-83b9-4747-87f2-f627ef28d9a4"
   },
   "outputs": [],
   "source": [
    "# Select features and target\n",
    "X = data.drop(columns=['id', 'CLASS_LABEL'])  # Exclude ID and target column\n",
    "y = data['CLASS_LABEL']\n",
    "\n",
    "# Split data into train and test sets\n",
    "X_train, X_test, y_train, y_test = train_test_split(X, y, test_size=0.2, random_state=42, stratify=y)\n",
    "\n",
    "# Standardize the data\n",
    "scaler = StandardScaler()\n",
    "X_train_scaled = scaler.fit_transform(X_train)\n",
    "X_test_scaled = scaler.transform(X_test)\n",
    "\n",
    "print(\"\\nData successfully preprocessed and split into train-test sets.\")\n"
   ]
  },
  {
   "cell_type": "code",
   "execution_count": null,
   "metadata": {
    "id": "o71VL54TUJiY"
   },
   "outputs": [],
   "source": [
    "# Logistic Regression\n",
    "log_model = LogisticRegression(max_iter=1000)\n",
    "log_model.fit(X_train_scaled, y_train)\n",
    "log_pred = log_model.predict(X_test_scaled)\n",
    "\n",
    "# Random Forest\n",
    "rf_model = RandomForestClassifier(random_state=42)\n",
    "rf_model.fit(X_train, y_train)\n",
    "rf_pred = rf_model.predict(X_test)\n",
    "\n",
    "# Support Vector Machine (SVM)\n",
    "svm_model = SVC()\n",
    "svm_model.fit(X_train_scaled, y_train)\n",
    "svm_pred = svm_model.predict(X_test_scaled)"
   ]
  },
  {
   "cell_type": "code",
   "execution_count": null,
   "metadata": {
    "id": "3gMPf2SWURZO"
   },
   "outputs": [],
   "source": [
    "# Evaluation Function\n",
    "def evaluate_model(name, y_true, y_pred):\n",
    "    print(f\"\\n{name} Evaluation:\")\n",
    "    print(\"Accuracy:\", accuracy_score(y_true, y_pred))\n",
    "    print(\"Classification Report:\\n\", classification_report(y_true, y_pred))\n",
    "    print(\"Confusion Matrix:\")\n",
    "    sns.heatmap(confusion_matrix(y_true, y_pred), annot=True, fmt='d', cmap='Blues')\n",
    "    plt.title(f\"{name} Confusion Matrix\")\n",
    "    plt.show()"
   ]
  },
  {
   "cell_type": "code",
   "execution_count": null,
   "metadata": {
    "colab": {
     "base_uri": "https://localhost:8080/",
     "height": 695
    },
    "id": "MKSR9YYwUfBf",
    "outputId": "233fe954-d5a0-4bd6-e381-a21275901a3d"
   },
   "outputs": [],
   "source": [
    "\n",
    "# Evaluate all models\n",
    "evaluate_model(\"Logistic Regression\", y_test, log_pred)"
   ]
  },
  {
   "cell_type": "code",
   "execution_count": null,
   "metadata": {
    "colab": {
     "base_uri": "https://localhost:8080/",
     "height": 695
    },
    "id": "CmyHrUa_Uipa",
    "outputId": "91d62bce-0ab0-4d30-c9ae-1c8d65107928"
   },
   "outputs": [],
   "source": [
    "evaluate_model(\"Random Forest\", y_test, rf_pred)"
   ]
  },
  {
   "cell_type": "code",
   "execution_count": null,
   "metadata": {
    "colab": {
     "base_uri": "https://localhost:8080/",
     "height": 695
    },
    "id": "1VjxJSbNUkv_",
    "outputId": "cf578825-37fc-4804-eb3e-6aad21644c71"
   },
   "outputs": [],
   "source": [
    "evaluate_model(\"SVM\", y_test, svm_pred)"
   ]
  },
  {
   "cell_type": "code",
   "execution_count": null,
   "metadata": {
    "colab": {
     "base_uri": "https://localhost:8080/",
     "height": 637
    },
    "id": "FSIp6RSfUmmS",
    "outputId": "38ffb190-5e43-45f9-ccfc-fa57a0875fa2"
   },
   "outputs": [],
   "source": [
    "# Feature importance from Random Forest\n",
    "importances = rf_model.feature_importances_\n",
    "features = X.columns\n",
    "\n",
    "# Plot feature importance\n",
    "plt.figure(figsize=(12, 8))\n",
    "sns.barplot(x=importances, y=features)\n",
    "plt.title(\"Feature Importance (Random Forest)\")\n",
    "plt.show()\n"
   ]
  },
  {
   "cell_type": "code",
   "execution_count": null,
   "metadata": {
    "id": "m0w2rdxcVWSu"
   },
   "outputs": [],
   "source": [
    "# Save the training feature names\n",
    "training_features = X.columns  # X is the DataFrame of training features\n",
    "import pickle\n",
    "with open('training_features.pkl', 'wb') as f:\n",
    "    pickle.dump(training_features, f)\n"
   ]
  },
  {
   "cell_type": "code",
   "execution_count": null,
   "metadata": {
    "colab": {
     "base_uri": "https://localhost:8080/"
    },
    "id": "PU4kBJV4W_y6",
    "outputId": "58bce09c-72c2-49ee-9618-01e76f88bd8b"
   },
   "outputs": [],
   "source": [
    "import pickle\n",
    "import pandas as pd\n",
    "\n",
    "# Load training feature names\n",
    "with open('training_features.pkl', 'rb') as f:\n",
    "    training_features = pickle.load(f)\n",
    "\n",
    "# Updated real-time URL prediction function\n",
    "def predict_url(url, model, scaler):\n",
    "    print(\"\\nExtracting features for URL:\", url)\n",
    "    features = extract_features(url)\n",
    "\n",
    "    # Convert features to DataFrame\n",
    "    feature_df = pd.DataFrame([features])\n",
    "\n",
    "    # Add missing features with default values (0)\n",
    "    for feature in training_features:\n",
    "        if feature not in feature_df.columns:\n",
    "            feature_df[feature] = 0\n",
    "\n",
    "    # Reorder columns to match training features\n",
    "    feature_df = feature_df[training_features]\n",
    "\n",
    "    # Standardize features using the scaler\n",
    "    feature_scaled = scaler.transform(feature_df)\n",
    "\n",
    "    # Make prediction\n",
    "    prediction = model.predict(feature_scaled)\n",
    "    print(\"Prediction:\", \"Phishing\" if prediction[0] == 1 else \"Legitimate\")\n",
    "    # Function to accept user input URLs and test\n",
    "def user_input_test(model, scaler):\n",
    "    # Ask the user to input URLs (comma separated)\n",
    "    user_urls = input(\"Enter URLs separated by commas: \").split(',')\n",
    "\n",
    "    for url in user_urls:\n",
    "        url = url.strip()  # Remove any leading or trailing spaces\n",
    "        predict_url(url, model, scaler)\n",
    "\n",
    "# Call the function to test user input URLs\n",
    "user_input_test(rf_model, scaler)"
   ]
  },
  {
   "cell_type": "code",
   "execution_count": null,
   "metadata": {
    "id": "T0beGTVvW3TY"
   },
   "outputs": [],
   "source": []
  }
 ],
 "metadata": {
  "colab": {
   "provenance": []
  },
  "kernelspec": {
   "display_name": "Python 3",
   "name": "python3"
  },
  "language_info": {
   "name": "python"
  }
 },
 "nbformat": 4,
 "nbformat_minor": 0
}
